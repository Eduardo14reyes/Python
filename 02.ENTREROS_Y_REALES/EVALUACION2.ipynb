gradosfahrenheit = int(input('ingrese los grados fahrenheit  ')) gradoscelsius = (gradosfahrenheit-32)/1.8 print('equivale a grados celsius ', gradoscelsius)
